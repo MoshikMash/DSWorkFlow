{
 "cells": [
  {
   "cell_type": "code",
   "execution_count": null,
   "metadata": {
    "hide_input": true
   },
   "outputs": [],
   "source": [
    "##################imports#################\n",
    "import os\n",
    "from copy import deepcopy\n",
    "from datetime import datetime\n",
    "import ast\n",
    "from threading import Timer\n",
    "from datetime import datetime\n",
    "from IPython.display import display, Javascript\n",
    "\n",
    "from DSWorkflow import *"
   ]
  },
  {
   "cell_type": "code",
   "execution_count": null,
   "metadata": {
    "cell_style": "center",
    "hide_input": true
   },
   "outputs": [],
   "source": [
    "#Save Notebook\n",
    "class RepeatedTimer(object):\n",
    "    def __init__(self, interval, function, *args, **kwargs):\n",
    "        self._timer     = None\n",
    "        self.interval   = interval\n",
    "        self.function   = function\n",
    "        self.args       = args\n",
    "        self.kwargs     = kwargs\n",
    "        self.is_running = False\n",
    "        self.start()\n",
    "\n",
    "    def _run(self):\n",
    "        self.is_running = False\n",
    "        self.start()\n",
    "        self.function(*self.args, **self.kwargs)\n",
    "\n",
    "    def start(self):\n",
    "        if not self.is_running:\n",
    "            self._timer = Timer(self.interval, self._run)\n",
    "            self._timer.start()\n",
    "            self.is_running = True\n",
    "\n",
    "    def stop(self):\n",
    "        self._timer.cancel()\n",
    "        self.is_running = False\n",
    "        \n",
    "def save_notebookd():\n",
    "    display(Javascript('Jupyter.notebook.save_notebook()'))\n",
    "\n",
    "rt = RepeatedTimer(1, save_notebookd)"
   ]
  },
  {
   "cell_type": "markdown",
   "metadata": {},
   "source": [
    "**Task instructions**\n",
    "\n",
    "* This experiment requires you to develop a predictive model.\n",
    "\n",
    "* We will provide you with a structured dataset (CSV file) which includes information about people. The target column (what should be predicted) is whether or not someone makes more than 50,000 dollars a year.\n",
    "\n",
    "* You will be asked to try and develop the best possible model for this scenario.\n",
    "\n",
    "* Your model’s performance will be evaluated on a separate set of test examples\n",
    "\n",
    "<a href=\"https://docs.google.com/document/d/12cTcNpGmuUReuIrGNvo9C1pPjXtSUWEs0G8TWT-9zGk/edit#heading=h.x54udswtnv63\">Link to API</a>"
   ]
  },
  {
   "cell_type": "markdown",
   "metadata": {},
   "source": [
    "**Dataset Description:**<br/>\n",
    "\n",
    "**age:** The individual age<br/>\n",
    "**workclass:** The type of work this individual does<br/>\n",
    "**education:** The highest level of education attained by this individual<br/>\n",
    "**education-num:** Years of education completed <br/>\n",
    "**marital-status:** Whether this person is married or not<br/>\n",
    "**occupation:** The individuals' job<br/>\n",
    "**relationship:** The individual's relation to other members of the family<br/>\n",
    "**race:** The individual's race<br/>\n",
    "**sex:** The individual's sex<br/>\n",
    "**hours-per-week:** Hours worked per week<br/>\n",
    "**native-country:** The individual's native country<br/>\n",
    "**target:** Target variable. Does this adult earn over $50k a year?"
   ]
  },
  {
   "cell_type": "code",
   "execution_count": null,
   "metadata": {},
   "outputs": [],
   "source": [
    "df = data_read_df()"
   ]
  },
  {
   "cell_type": "code",
   "execution_count": null,
   "metadata": {},
   "outputs": [],
   "source": [
    "df.head()"
   ]
  }
 ],
 "metadata": {
  "hide_input": false,
  "kernelspec": {
   "display_name": "Python 3 (ipykernel)",
   "language": "python",
   "name": "python3"
  },
  "language_info": {
   "codemirror_mode": {
    "name": "ipython",
    "version": 3
   },
   "file_extension": ".py",
   "mimetype": "text/x-python",
   "name": "python",
   "nbconvert_exporter": "python",
   "pygments_lexer": "ipython3",
   "version": "3.9.6"
  },
  "latex_envs": {
   "LaTeX_envs_menu_present": true,
   "autoclose": false,
   "autocomplete": true,
   "bibliofile": "biblio.bib",
   "cite_by": "apalike",
   "current_citInitial": 1,
   "eqLabelWithNumbers": true,
   "eqNumInitial": 1,
   "hotkeys": {
    "equation": "Ctrl-E",
    "itemize": "Ctrl-I"
   },
   "labels_anchors": false,
   "latex_user_defs": false,
   "report_style_numbering": false,
   "user_envs_cfg": false
  },
  "toc": {
   "base_numbering": 1,
   "nav_menu": {},
   "number_sections": true,
   "sideBar": true,
   "skip_h1_title": false,
   "title_cell": "Table of Contents",
   "title_sidebar": "Contents",
   "toc_cell": false,
   "toc_position": {},
   "toc_section_display": true,
   "toc_window_display": false
  }
 },
 "nbformat": 4,
 "nbformat_minor": 2
}
