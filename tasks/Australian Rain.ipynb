{
 "cells": [
  {
   "cell_type": "code",
   "execution_count": null,
   "metadata": {
    "hide_input": true
   },
   "outputs": [],
   "source": [
    "##################imports#################\n",
    "import os\n",
    "from copy import deepcopy\n",
    "from datetime import datetime\n",
    "import ast\n",
    "from threading import Timer\n",
    "from datetime import datetime\n",
    "from IPython.display import display, Javascript\n",
    "\n",
    "from DSWorkflow import *"
   ]
  },
  {
   "cell_type": "code",
   "execution_count": null,
   "metadata": {
    "cell_style": "center",
    "code_folding": [
     17,
     44,
     51,
     78
    ],
    "hide_input": false
   },
   "outputs": [],
   "source": [
    "#Save Notebook\n",
    "class RepeatedTimer(object):\n",
    "    def __init__(self, interval, function, *args, **kwargs):\n",
    "        self._timer     = None\n",
    "        self.interval   = interval\n",
    "        self.function   = function\n",
    "        self.args       = args\n",
    "        self.kwargs     = kwargs\n",
    "        self.is_running = False\n",
    "        self.start()\n",
    "\n",
    "    def _run(self):\n",
    "        self.is_running = False\n",
    "        self.start()\n",
    "        self.function(*self.args, **self.kwargs)\n",
    "\n",
    "    def start(self):\n",
    "        if not self.is_running:\n",
    "            self._timer = Timer(self.interval, self._run)\n",
    "            self._timer.start()\n",
    "            self.is_running = True\n",
    "\n",
    "    def stop(self):\n",
    "        self._timer.cancel()\n",
    "        self.is_running = False\n",
    "        \n",
    "def save_notebookd():\n",
    "    display(Javascript('Jupyter.notebook.save_notebook()'))\n",
    "\n",
    "rt = RepeatedTimer(1, save_notebookd)"
   ]
  },
  {
   "cell_type": "markdown",
   "metadata": {},
   "source": [
    "**Task Instructions**\n",
    "\n",
    "* This experiment requires you to develop a predictive model.\n",
    "\n",
    "* We will provide a structured dataset (CSV file) which includes information about daily weather observations from a number of Australian weather stations. The target column (what should be predicted) is whether it will rain tomorrow.\n",
    "\n",
    "* You will be asked to try and develop the best possible model for this scenario.\n",
    "\n",
    "* Your model’s performance will be evaluated on a separate set of test examples\n",
    "\n",
    "<a href=\"https://docs.google.com/document/d/12cTcNpGmuUReuIrGNvo9C1pPjXtSUWEs0G8TWT-9zGk/edit#heading=h.x54udswtnv63\">Link to API</a>"
   ]
  },
  {
   "cell_type": "markdown",
   "metadata": {},
   "source": [
    "**Dataset Description:**<br/>\n",
    "\n",
    "**Date:** The date of observation<br/>\n",
    "**Location:** The common name of the weather station's location<br/>\n",
    "**MinTemp:** The minimum temperature in degrees Celsius<br/>\n",
    "**MaxTemp:** The maximum temperature in degrees Celsius<br/>\n",
    "**Rainfall:** The amount of rainfall recorded for the day in mm<br/>\n",
    "**WindGustDir:** The direction of the strongest gust of wind in the past 24 hours (to midnight)<br/>\n",
    "**WindGustSpeed:** The speed (km/h) of the strongest gust of wind in the past 24 hours (to midnight)<br/>\n",
    "**WindDir9am:** Wind direction at 9 AM<br/>\n",
    "**WindDir3pm:** Wind direction at 3 PM<br/>\n",
    "**WindSpeed9am:** Wind speed (km/hr) averaged over 10 minutes prior to 9am<br/>\n",
    "**WindSpeed3pm:** Wind speed (km/hr) averaged over 10 minutes prior to 3pm<br/>\n",
    "**Pressure9am:** Atmospheric pressure (hpa) reduced to mean sea level at 9am<br/>\n",
    "**Pressure3pm:** Atmospheric pressure (hpa) reduced to mean sea level at 3pm<br/>\n",
    "**Temp9am:** Temperature (degrees Celsius) at 9am<br/>\n",
    "**Temp3pm:** Temperature (degrees Celsius) at 3pm<br/>\n",
    "**RainToday:** 1 if precipitation in the past 24 hours (to 9 AM) exceeded 1mm, 0 otherwise<br/>\n",
    "**target:** Target variable. Did it rain on the following day?"
   ]
  },
  {
   "cell_type": "code",
   "execution_count": null,
   "metadata": {
    "hide_input": true,
    "scrolled": false
   },
   "outputs": [],
   "source": [
    "df = data_read_df()\n",
    "df.head()"
   ]
  }
 ],
 "metadata": {
  "hide_input": false,
  "kernelspec": {
   "display_name": "Python 3 (ipykernel)",
   "language": "python",
   "name": "python3"
  },
  "language_info": {
   "codemirror_mode": {
    "name": "ipython",
    "version": 3
   },
   "file_extension": ".py",
   "mimetype": "text/x-python",
   "name": "python",
   "nbconvert_exporter": "python",
   "pygments_lexer": "ipython3",
   "version": "3.9.6"
  },
  "latex_envs": {
   "LaTeX_envs_menu_present": true,
   "autoclose": false,
   "autocomplete": true,
   "bibliofile": "biblio.bib",
   "cite_by": "apalike",
   "current_citInitial": 1,
   "eqLabelWithNumbers": true,
   "eqNumInitial": 1,
   "hotkeys": {
    "equation": "Ctrl-E",
    "itemize": "Ctrl-I"
   },
   "labels_anchors": false,
   "latex_user_defs": false,
   "report_style_numbering": false,
   "user_envs_cfg": false
  },
  "toc": {
   "base_numbering": 1,
   "nav_menu": {},
   "number_sections": true,
   "sideBar": true,
   "skip_h1_title": false,
   "title_cell": "Table of Contents",
   "title_sidebar": "Contents",
   "toc_cell": false,
   "toc_position": {},
   "toc_section_display": true,
   "toc_window_display": false
  }
 },
 "nbformat": 4,
 "nbformat_minor": 2
}
